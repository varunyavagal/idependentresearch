{
 "cells": [
  {
   "cell_type": "code",
   "execution_count": 87,
   "metadata": {},
   "outputs": [
    {
     "name": "stdout",
     "output_type": "stream",
     "text": [
      "3.6.8 |Anaconda, Inc.| (default, Feb 21 2019, 18:30:04) [MSC v.1916 64 bit (AMD64)] win32 C:\\Users\\varun\\conda\\envs\\test_env\\python.exe\n"
     ]
    }
   ],
   "source": [
    "import sys\n",
    "print(sys.version, sys.platform, sys.executable)"
   ]
  },
  {
   "cell_type": "code",
   "execution_count": 88,
   "metadata": {},
   "outputs": [],
   "source": [
    "from __future__ import absolute_import\n",
    "from __future__ import division\n",
    "from __future__ import print_function\n",
    "from __future__ import unicode_literals\n",
    "\n",
    "from matplotlib import pyplot as plt\n",
    "\n",
    "\n",
    "import sys\n",
    "sys.path.append(\"../\")\n",
    "import warnings\n",
    "\n",
    "import numpy as np\n",
    "import pandas as pd\n",
    "from tqdm import tqdm\n",
    "from IPython.display import Markdown, display\n",
    "\n",
    "from sklearn.model_selection import train_test_split\n",
    "from sklearn.linear_model import LogisticRegression\n",
    "from sklearn.svm import SVC as SVM\n",
    "from sklearn.preprocessing import MinMaxScaler\n",
    "from sklearn.metrics import accuracy_score\n",
    "\n",
    "from aif360.algorithms.preprocessing import DisparateImpactRemover\n",
    "from aif360.datasets import CompasDataset\n",
    "from aif360.metrics import BinaryLabelDatasetMetric"
   ]
  },
  {
   "cell_type": "markdown",
   "metadata": {},
   "source": [
    "\n",
    "The CompasDataset expects you to specify the label (target) variable, by default it is 'two_year_recid'\n",
    "\n",
    "aif360.datasets.CompasDataset(label_name='two_year_recid', favorable_classes=[0], protected_attribute_names=['sex', 'race'], privileged_classes=[['Female'], ['Caucasian']], instance_weights_name=None, categorical_features=['age_cat', 'c_charge_degree', 'c_charge_desc'], features_to_keep=['sex', 'age', 'age_cat', 'race', 'juv_fel_count', 'juv_misd_count', 'juv_other_count', 'priors_count', 'c_charge_degree', 'c_charge_desc', 'two_year_recid'], features_to_drop=[], na_values=[], custom_preprocessing=<function default_preprocessing>, metadata={'label_maps': [{0.0: 'No recid.', 1.0: 'Did recid.'}], 'protected_attribute_maps': [{0.0: 'Male', 1.0: 'Female'}, {0.0: 'Not Caucasian', 1.0: 'Caucasian'}]})"
   ]
  },
  {
   "cell_type": "code",
   "execution_count": 89,
   "metadata": {},
   "outputs": [],
   "source": [
    "protected = 'race'\n",
    "cp = CompasDataset(\n",
    "    label_name='decile_score',\n",
    "    protected_attribute_names=[protected],\n",
    "    privileged_classes = [['Caucasian']], \n",
    "    categorical_features=['sex','age_cat',  'c_charge_degree', 'score_text'],\n",
    "    features_to_keep=['sex', 'age', 'age_cat', 'race', 'score_text','v_decile_score', 'juv_fel_count', 'juv_misd_count', 'juv_other_count', 'priors_count', 'c_charge_degree', 'two_year_recid'])"
   ]
  },
  {
   "cell_type": "markdown",
   "metadata": {},
   "source": [
    "### Train and Test split"
   ]
  },
  {
   "cell_type": "code",
   "execution_count": 90,
   "metadata": {},
   "outputs": [],
   "source": [
    "#Splitting to Train and Test- to be used through all models\n",
    "\n",
    "train, test = cp.split([0.7], shuffle=True)"
   ]
  },
  {
   "cell_type": "markdown",
   "metadata": {},
   "source": [
    "### ------------Model 1: Logistic Regression before employing Disparate Impact Remover-------------"
   ]
  },
  {
   "cell_type": "code",
   "execution_count": 91,
   "metadata": {},
   "outputs": [],
   "source": [
    "#Converting train and test to Pandas\n",
    "\n",
    "data_train=train.convert_to_dataframe()\n",
    "df_train=pd.DataFrame(data_train[0])\n",
    "\n",
    "data_test=test.convert_to_dataframe()\n",
    "df_test=pd.DataFrame(data_test[0])"
   ]
  },
  {
   "cell_type": "code",
   "execution_count": 92,
   "metadata": {},
   "outputs": [],
   "source": [
    "df_train.v_decile_score=df_train.v_decile_score.replace([-1,1,2,3,4,5,6,7,8,9,10],[0,0,0,0,0,0,1,1,1,1,1])\n",
    "df_test.v_decile_score=df_test.v_decile_score.replace([-1,1,2,3,4,5,6,7,8,9,10],[0,0,0,0,0,0,1,1,1,1,1])"
   ]
  },
  {
   "cell_type": "code",
   "execution_count": 95,
   "metadata": {},
   "outputs": [
    {
     "data": {
      "text/plain": [
       "(4320, 19)"
      ]
     },
     "metadata": {},
     "output_type": "display_data"
    },
    {
     "data": {
      "text/plain": [
       "(1852, 19)"
      ]
     },
     "metadata": {},
     "output_type": "display_data"
    }
   ],
   "source": [
    "#Shape of Train and Test \n",
    "\n",
    "display(df_train.shape)\n",
    "display(df_test.shape)"
   ]
  },
  {
   "cell_type": "code",
   "execution_count": 103,
   "metadata": {},
   "outputs": [],
   "source": [
    "#converting from float to int\n",
    "#Train\n",
    "\n",
    "df_train['age']=df_train['age'].astype('int64')\n",
    "df_train['race']=df_train[ 'race'].astype('int64')\n",
    "df_train['juv_fel_count']=df_train['juv_fel_count'].astype('int64')\n",
    "df_train['v_decile_score']=df_train['v_decile_score'].astype('int64')\n",
    "df_train['juv_misd_count']=df_train['juv_misd_count'].astype('int64')\n",
    "df_train['juv_other_count']=df_train['juv_other_count'].astype('int64')\n",
    "df_train['priors_count']=df_train['priors_count'].astype('int64')\n",
    "df_train['sex=Female']=df_train['sex=Female'].astype('int64')\n",
    "df_train['sex=Male']=df_train['sex=Male'].astype('int64')\n",
    "df_train['age_cat=25 - 45']=df_train['age_cat=25 - 45'].astype('int64')\n",
    "df_train['age_cat=Greater than 45']=df_train['age_cat=Greater than 45'].astype('int64')\n",
    "df_train['age_cat=Less than 25']=df_train['age_cat=Less than 25'].astype('int64')\n",
    "df_train['two_year_recid']=df_train['two_year_recid'].astype('int64')\n"
   ]
  },
  {
   "cell_type": "code",
   "execution_count": 104,
   "metadata": {},
   "outputs": [],
   "source": [
    "#converting from float to int\n",
    "#Test\n",
    "\n",
    "df_test['age']=df_test['age'].astype('int64')\n",
    "df_test['race']=df_test[ 'race'].astype('int64')\n",
    "df_test['juv_fel_count']=df_test['juv_fel_count'].astype('int64')\n",
    "df_test['v_decile_score']=df_test['v_decile_score'].astype('int64')\n",
    "df_test['juv_misd_count']=df_test['juv_misd_count'].astype('int64')\n",
    "df_test['juv_other_count']=df_test['juv_other_count'].astype('int64')\n",
    "df_test['priors_count']=df_test['priors_count'].astype('int64')\n",
    "df_test['sex=Female']=df_test['sex=Female'].astype('int64')\n",
    "df_test['sex=Male']=df_test['sex=Male'].astype('int64')\n",
    "df_test['age_cat=25 - 45']=df_test['age_cat=25 - 45'].astype('int64')\n",
    "df_test['age_cat=Greater than 45']=df_test['age_cat=Greater than 45'].astype('int64')\n",
    "df_test['age_cat=Less than 25']=df_test['age_cat=Less than 25'].astype('int64')\n",
    "df_test['two_year_recid']=df_test['two_year_recid'].astype('int64')"
   ]
  },
  {
   "cell_type": "code",
   "execution_count": 105,
   "metadata": {},
   "outputs": [],
   "source": [
    "#Train\n",
    "xTrain=df_train.drop(['v_decile_score', 'two_year_recid'], axis=1)\n",
    "yTrain=df_train['v_decile_score']\n",
    "\n",
    "#Test\n",
    "xTest=df_test.drop([ 'v_decile_score', 'two_year_recid'], axis=1)\n",
    "yTest=df_test['v_decile_score']"
   ]
  },
  {
   "cell_type": "code",
   "execution_count": 106,
   "metadata": {},
   "outputs": [
    {
     "name": "stderr",
     "output_type": "stream",
     "text": [
      "C:\\Users\\varun\\conda\\envs\\test_env\\lib\\site-packages\\sklearn\\linear_model\\logistic.py:433: FutureWarning: Default solver will be changed to 'lbfgs' in 0.22. Specify a solver to silence this warning.\n",
      "  FutureWarning)\n"
     ]
    },
    {
     "data": {
      "text/plain": [
       "LogisticRegression(C=1.0, class_weight=None, dual=False, fit_intercept=True,\n",
       "          intercept_scaling=1, max_iter=100, multi_class='warn',\n",
       "          n_jobs=None, penalty='l2', random_state=None, solver='warn',\n",
       "          tol=0.0001, verbose=0, warm_start=False)"
      ]
     },
     "execution_count": 106,
     "metadata": {},
     "output_type": "execute_result"
    }
   ],
   "source": [
    "#model\n",
    "classifier=LogisticRegression()\n",
    "classifier.fit(xTrain, yTrain)"
   ]
  },
  {
   "cell_type": "code",
   "execution_count": 108,
   "metadata": {},
   "outputs": [],
   "source": [
    "#predict\n",
    "yPred=classifier.predict(xTest)"
   ]
  },
  {
   "cell_type": "code",
   "execution_count": 109,
   "metadata": {},
   "outputs": [],
   "source": [
    "model_1=df_test.copy() #Storing test to a new dataset"
   ]
  },
  {
   "cell_type": "code",
   "execution_count": 110,
   "metadata": {},
   "outputs": [],
   "source": [
    "model_1['true_risk'] = model_1['two_year_recid'] #ground truth"
   ]
  },
  {
   "cell_type": "code",
   "execution_count": 111,
   "metadata": {},
   "outputs": [],
   "source": [
    "model_1['pred_risk']=yPred #predicted decile score binary #appending the predicted labels to the final dataset"
   ]
  },
  {
   "cell_type": "markdown",
   "metadata": {},
   "source": [
    "Accuracy\n"
   ]
  },
  {
   "cell_type": "code",
   "execution_count": 119,
   "metadata": {},
   "outputs": [
    {
     "data": {
      "text/plain": [
       "0.6506479481641468"
      ]
     },
     "execution_count": 119,
     "metadata": {},
     "output_type": "execute_result"
    }
   ],
   "source": [
    "# Prediction Accuracy\n",
    "\n",
    "accuracy_score(model_1['true_risk'], model_1['pred_risk'])"
   ]
  },
  {
   "cell_type": "code",
   "execution_count": 120,
   "metadata": {},
   "outputs": [
    {
     "data": {
      "text/plain": [
       "0.6823899371069182"
      ]
     },
     "execution_count": 120,
     "metadata": {},
     "output_type": "execute_result"
    }
   ],
   "source": [
    "# Prediction Accuracy for Caucasians\n",
    "c1=model_1[model_1['race']==1]\n",
    "\n",
    "accuracy_score(c1['true_risk'], c1['pred_risk'])"
   ]
  },
  {
   "cell_type": "code",
   "execution_count": 121,
   "metadata": {},
   "outputs": [
    {
     "data": {
      "text/plain": [
       "0.8623110151187905"
      ]
     },
     "execution_count": 121,
     "metadata": {},
     "output_type": "execute_result"
    }
   ],
   "source": [
    "classifier.score(xTest,yTest) #model accuracy"
   ]
  },
  {
   "cell_type": "code",
   "execution_count": 122,
   "metadata": {},
   "outputs": [
    {
     "data": {
      "text/plain": [
       "0.8915094339622641"
      ]
     },
     "execution_count": 122,
     "metadata": {},
     "output_type": "execute_result"
    }
   ],
   "source": [
    "classifier.score(xTest[xTest[\"race\"] == 1],yTest[xTest[\"race\"] == 1]) #Caucasians"
   ]
  },
  {
   "cell_type": "code",
   "execution_count": 123,
   "metadata": {},
   "outputs": [
    {
     "data": {
      "text/plain": [
       "0.8470394736842105"
      ]
     },
     "execution_count": 123,
     "metadata": {},
     "output_type": "execute_result"
    }
   ],
   "source": [
    "classifier.score(xTest[xTest[\"race\"] == 0],yTest[xTest[\"race\"] == 0])"
   ]
  },
  {
   "cell_type": "markdown",
   "metadata": {},
   "source": [
    "### ----------------Model 2: Logistic Regression after employing Disparate Impact Remover---------------\n"
   ]
  },
  {
   "cell_type": "code",
   "execution_count": 124,
   "metadata": {},
   "outputs": [
    {
     "data": {
      "text/markdown": [
       "#### Training Dataset shape"
      ],
      "text/plain": [
       "<IPython.core.display.Markdown object>"
      ]
     },
     "metadata": {},
     "output_type": "display_data"
    },
    {
     "name": "stdout",
     "output_type": "stream",
     "text": [
      "(4320, 18)\n"
     ]
    }
   ],
   "source": [
    "display(Markdown(\"#### Training Dataset shape\"))\n",
    "print(train.features.shape)"
   ]
  },
  {
   "cell_type": "code",
   "execution_count": 125,
   "metadata": {},
   "outputs": [
    {
     "data": {
      "text/markdown": [
       "#### Protected attribute names"
      ],
      "text/plain": [
       "<IPython.core.display.Markdown object>"
      ]
     },
     "metadata": {},
     "output_type": "display_data"
    },
    {
     "name": "stdout",
     "output_type": "stream",
     "text": [
      "['race']\n"
     ]
    }
   ],
   "source": [
    "display(Markdown(\"#### Protected attribute names\"))\n",
    "print(train.protected_attribute_names)"
   ]
  },
  {
   "cell_type": "code",
   "execution_count": 126,
   "metadata": {},
   "outputs": [
    {
     "data": {
      "text/markdown": [
       "#### Label names"
      ],
      "text/plain": [
       "<IPython.core.display.Markdown object>"
      ]
     },
     "metadata": {},
     "output_type": "display_data"
    },
    {
     "name": "stdout",
     "output_type": "stream",
     "text": [
      "['decile_score']\n"
     ]
    }
   ],
   "source": [
    "display(Markdown(\"#### Label names\"))\n",
    "print(train.label_names)"
   ]
  },
  {
   "cell_type": "code",
   "execution_count": 127,
   "metadata": {},
   "outputs": [
    {
     "data": {
      "text/markdown": [
       "#### Dataset feature names"
      ],
      "text/plain": [
       "<IPython.core.display.Markdown object>"
      ]
     },
     "metadata": {},
     "output_type": "display_data"
    },
    {
     "name": "stdout",
     "output_type": "stream",
     "text": [
      "['age', 'race', 'juv_fel_count', 'juv_misd_count', 'juv_other_count', 'priors_count', 'v_decile_score', 'two_year_recid', 'sex=Female', 'sex=Male', 'age_cat=25 - 45', 'age_cat=Greater than 45', 'age_cat=Less than 25', 'c_charge_degree=F', 'c_charge_degree=M', 'score_text=High', 'score_text=Low', 'score_text=Medium']\n"
     ]
    }
   ],
   "source": [
    "display(Markdown(\"#### Dataset feature names\"))\n",
    "print(train.feature_names)"
   ]
  },
  {
   "cell_type": "code",
   "execution_count": 128,
   "metadata": {},
   "outputs": [],
   "source": [
    "#applying Disparate Impact Remover\n",
    "di = DisparateImpactRemover(repair_level=1.0)\n",
    "train_repd = di.fit_transform(train)\n",
    "test_repd = di.fit_transform(test)\n",
    "\n",
    "\n"
   ]
  },
  {
   "cell_type": "code",
   "execution_count": 129,
   "metadata": {},
   "outputs": [],
   "source": [
    "#Convert to Pandas after applying Disparate Impact Remover\n",
    "\n",
    "#Train\n",
    "data1=train_repd.convert_to_dataframe()\n",
    "train_di=pd.DataFrame(data1[0])\n",
    "\n",
    "\n",
    "#Test\n",
    "data2=test_repd.convert_to_dataframe()\n",
    "test_di=pd.DataFrame(data2[0])"
   ]
  },
  {
   "cell_type": "code",
   "execution_count": 130,
   "metadata": {},
   "outputs": [
    {
     "data": {
      "text/plain": [
       "(4320, 19)"
      ]
     },
     "metadata": {},
     "output_type": "display_data"
    },
    {
     "data": {
      "text/plain": [
       "(1852, 19)"
      ]
     },
     "metadata": {},
     "output_type": "display_data"
    }
   ],
   "source": [
    "display(train_di.shape)\n",
    "display(test_di.shape)"
   ]
  },
  {
   "cell_type": "code",
   "execution_count": 131,
   "metadata": {},
   "outputs": [],
   "source": [
    "#converting from float to int\n",
    "#Train\n",
    "\n",
    "train_di['age']=train_di['age'].astype('int64')\n",
    "train_di['race']=train_di[ 'race'].astype('int64')\n",
    "train_di['juv_fel_count']=train_di['juv_fel_count'].astype('int64')\n",
    "train_di['v_decile_score']=train_di['v_decile_score'].astype('int64')\n",
    "train_di['juv_misd_count']=train_di['juv_misd_count'].astype('int64')\n",
    "train_di['juv_other_count']=train_di['juv_other_count'].astype('int64')\n",
    "train_di['priors_count']=train_di['priors_count'].astype('int64')\n",
    "train_di['sex=Female']=train_di['sex=Female'].astype('int64')\n",
    "train_di['sex=Male']=train_di['sex=Male'].astype('int64')\n",
    "train_di['age_cat=25 - 45']=train_di['age_cat=25 - 45'].astype('int64')\n",
    "train_di['age_cat=Greater than 45']=train_di['age_cat=Greater than 45'].astype('int64')\n",
    "train_di['age_cat=Less than 25']=train_di['age_cat=Less than 25'].astype('int64')\n",
    "train_di['two_year_recid']=train_di['two_year_recid'].astype('int64')"
   ]
  },
  {
   "cell_type": "code",
   "execution_count": 132,
   "metadata": {},
   "outputs": [],
   "source": [
    "#Test\n",
    "test_di['age']=test_di['age'].astype('int64')\n",
    "test_di['race']=test_di[ 'race'].astype('int64')\n",
    "test_di['juv_fel_count']=test_di['juv_fel_count'].astype('int64')\n",
    "test_di['v_decile_score']=test_di['v_decile_score'].astype('int64')\n",
    "test_di['juv_misd_count']=test_di['juv_misd_count'].astype('int64')\n",
    "test_di['juv_other_count']=test_di['juv_other_count'].astype('int64')\n",
    "test_di['priors_count']=test_di['priors_count'].astype('int64')\n",
    "test_di['sex=Female']=test_di['sex=Female'].astype('int64')\n",
    "test_di['sex=Male']=test_di['sex=Male'].astype('int64')\n",
    "test_di['age_cat=25 - 45']=test_di['age_cat=25 - 45'].astype('int64')\n",
    "test_di['age_cat=Greater than 45']=test_di['age_cat=Greater than 45'].astype('int64')\n",
    "test_di['age_cat=Less than 25']=test_di['age_cat=Less than 25'].astype('int64')\n",
    "test_di['two_year_recid']=test_di['two_year_recid'].astype('int64')"
   ]
  },
  {
   "cell_type": "code",
   "execution_count": 133,
   "metadata": {},
   "outputs": [],
   "source": [
    "train_di.v_decile_score=train_di.v_decile_score.replace([-1,1,2,3,4,5,6,7,8,9,10],[0,0,0,0,0,0,1,1,1,1,1])\n",
    "test_di.v_decile_score=test_di.v_decile_score.replace([-1,1,2,3,4,5,6,7,8,9,10],[0,0,0,0,0,0,1,1,1,1,1])"
   ]
  },
  {
   "cell_type": "code",
   "execution_count": 134,
   "metadata": {},
   "outputs": [],
   "source": [
    "#Creating features and labels\n",
    "\n",
    "#Train\n",
    "xTrain_di=train_di.drop([ 'decile_score', 'two_year_recid','v_decile_score'], axis=1)\n",
    "yTrain_di=train_di['v_decile_score']\n",
    "\n",
    "#Test\n",
    "xTest_di=test_di.drop([ 'decile_score', 'two_year_recid','v_decile_score'], axis=1)\n",
    "yTest_di=test_di['v_decile_score']\n"
   ]
  },
  {
   "cell_type": "code",
   "execution_count": 135,
   "metadata": {},
   "outputs": [
    {
     "name": "stderr",
     "output_type": "stream",
     "text": [
      "C:\\Users\\varun\\conda\\envs\\test_env\\lib\\site-packages\\sklearn\\linear_model\\logistic.py:433: FutureWarning: Default solver will be changed to 'lbfgs' in 0.22. Specify a solver to silence this warning.\n",
      "  FutureWarning)\n"
     ]
    },
    {
     "data": {
      "text/plain": [
       "LogisticRegression(C=1.0, class_weight=None, dual=False, fit_intercept=True,\n",
       "          intercept_scaling=1, max_iter=100, multi_class='warn',\n",
       "          n_jobs=None, penalty='l2', random_state=None, solver='warn',\n",
       "          tol=0.0001, verbose=0, warm_start=False)"
      ]
     },
     "execution_count": 135,
     "metadata": {},
     "output_type": "execute_result"
    }
   ],
   "source": [
    "#model\n",
    "classifier=LogisticRegression()\n",
    "classifier.fit(xTrain_di, yTrain_di)"
   ]
  },
  {
   "cell_type": "code",
   "execution_count": 136,
   "metadata": {},
   "outputs": [],
   "source": [
    "#predict\n",
    "yPred=classifier.predict(xTest_di)"
   ]
  },
  {
   "cell_type": "code",
   "execution_count": 137,
   "metadata": {},
   "outputs": [],
   "source": [
    "model_2=df_test.copy() #Storing test to a new dataset\n",
    "model_2['true_risk'] = model_2['two_year_recid'] #ground truth\n",
    "model_2['pred_risk']=yPred #predicted decile score binary #appending the predicted labels to the final dataset"
   ]
  },
  {
   "cell_type": "code",
   "execution_count": 138,
   "metadata": {},
   "outputs": [
    {
     "data": {
      "text/html": [
       "<div>\n",
       "<style scoped>\n",
       "    .dataframe tbody tr th:only-of-type {\n",
       "        vertical-align: middle;\n",
       "    }\n",
       "\n",
       "    .dataframe tbody tr th {\n",
       "        vertical-align: top;\n",
       "    }\n",
       "\n",
       "    .dataframe thead th {\n",
       "        text-align: right;\n",
       "    }\n",
       "</style>\n",
       "<table border=\"1\" class=\"dataframe\">\n",
       "  <thead>\n",
       "    <tr style=\"text-align: right;\">\n",
       "      <th></th>\n",
       "      <th>age</th>\n",
       "      <th>race</th>\n",
       "      <th>juv_fel_count</th>\n",
       "      <th>juv_misd_count</th>\n",
       "      <th>juv_other_count</th>\n",
       "      <th>priors_count</th>\n",
       "      <th>v_decile_score</th>\n",
       "      <th>two_year_recid</th>\n",
       "      <th>sex=Female</th>\n",
       "      <th>sex=Male</th>\n",
       "      <th>...</th>\n",
       "      <th>age_cat=Greater than 45</th>\n",
       "      <th>age_cat=Less than 25</th>\n",
       "      <th>c_charge_degree=F</th>\n",
       "      <th>c_charge_degree=M</th>\n",
       "      <th>score_text=High</th>\n",
       "      <th>score_text=Low</th>\n",
       "      <th>score_text=Medium</th>\n",
       "      <th>decile_score</th>\n",
       "      <th>true_risk</th>\n",
       "      <th>pred_risk</th>\n",
       "    </tr>\n",
       "  </thead>\n",
       "  <tbody>\n",
       "    <tr>\n",
       "      <th>10766</th>\n",
       "      <td>36</td>\n",
       "      <td>0</td>\n",
       "      <td>0</td>\n",
       "      <td>0</td>\n",
       "      <td>0</td>\n",
       "      <td>9</td>\n",
       "      <td>1</td>\n",
       "      <td>1</td>\n",
       "      <td>0</td>\n",
       "      <td>1</td>\n",
       "      <td>...</td>\n",
       "      <td>0</td>\n",
       "      <td>0</td>\n",
       "      <td>1.0</td>\n",
       "      <td>0.0</td>\n",
       "      <td>0.0</td>\n",
       "      <td>0.0</td>\n",
       "      <td>1.0</td>\n",
       "      <td>0.0</td>\n",
       "      <td>1</td>\n",
       "      <td>0</td>\n",
       "    </tr>\n",
       "    <tr>\n",
       "      <th>3830</th>\n",
       "      <td>26</td>\n",
       "      <td>0</td>\n",
       "      <td>0</td>\n",
       "      <td>0</td>\n",
       "      <td>0</td>\n",
       "      <td>0</td>\n",
       "      <td>0</td>\n",
       "      <td>0</td>\n",
       "      <td>1</td>\n",
       "      <td>0</td>\n",
       "      <td>...</td>\n",
       "      <td>0</td>\n",
       "      <td>0</td>\n",
       "      <td>0.0</td>\n",
       "      <td>1.0</td>\n",
       "      <td>0.0</td>\n",
       "      <td>1.0</td>\n",
       "      <td>0.0</td>\n",
       "      <td>0.0</td>\n",
       "      <td>0</td>\n",
       "      <td>0</td>\n",
       "    </tr>\n",
       "    <tr>\n",
       "      <th>9746</th>\n",
       "      <td>23</td>\n",
       "      <td>0</td>\n",
       "      <td>0</td>\n",
       "      <td>0</td>\n",
       "      <td>0</td>\n",
       "      <td>0</td>\n",
       "      <td>1</td>\n",
       "      <td>0</td>\n",
       "      <td>0</td>\n",
       "      <td>1</td>\n",
       "      <td>...</td>\n",
       "      <td>0</td>\n",
       "      <td>1</td>\n",
       "      <td>0.0</td>\n",
       "      <td>1.0</td>\n",
       "      <td>0.0</td>\n",
       "      <td>0.0</td>\n",
       "      <td>1.0</td>\n",
       "      <td>0.0</td>\n",
       "      <td>0</td>\n",
       "      <td>1</td>\n",
       "    </tr>\n",
       "    <tr>\n",
       "      <th>4996</th>\n",
       "      <td>27</td>\n",
       "      <td>1</td>\n",
       "      <td>0</td>\n",
       "      <td>0</td>\n",
       "      <td>0</td>\n",
       "      <td>1</td>\n",
       "      <td>0</td>\n",
       "      <td>0</td>\n",
       "      <td>0</td>\n",
       "      <td>1</td>\n",
       "      <td>...</td>\n",
       "      <td>0</td>\n",
       "      <td>0</td>\n",
       "      <td>1.0</td>\n",
       "      <td>0.0</td>\n",
       "      <td>0.0</td>\n",
       "      <td>1.0</td>\n",
       "      <td>0.0</td>\n",
       "      <td>0.0</td>\n",
       "      <td>0</td>\n",
       "      <td>0</td>\n",
       "    </tr>\n",
       "    <tr>\n",
       "      <th>7206</th>\n",
       "      <td>37</td>\n",
       "      <td>0</td>\n",
       "      <td>0</td>\n",
       "      <td>0</td>\n",
       "      <td>0</td>\n",
       "      <td>6</td>\n",
       "      <td>0</td>\n",
       "      <td>1</td>\n",
       "      <td>0</td>\n",
       "      <td>1</td>\n",
       "      <td>...</td>\n",
       "      <td>0</td>\n",
       "      <td>0</td>\n",
       "      <td>1.0</td>\n",
       "      <td>0.0</td>\n",
       "      <td>0.0</td>\n",
       "      <td>1.0</td>\n",
       "      <td>0.0</td>\n",
       "      <td>0.0</td>\n",
       "      <td>1</td>\n",
       "      <td>0</td>\n",
       "    </tr>\n",
       "    <tr>\n",
       "      <th>9724</th>\n",
       "      <td>64</td>\n",
       "      <td>0</td>\n",
       "      <td>0</td>\n",
       "      <td>0</td>\n",
       "      <td>0</td>\n",
       "      <td>0</td>\n",
       "      <td>0</td>\n",
       "      <td>0</td>\n",
       "      <td>1</td>\n",
       "      <td>0</td>\n",
       "      <td>...</td>\n",
       "      <td>1</td>\n",
       "      <td>0</td>\n",
       "      <td>1.0</td>\n",
       "      <td>0.0</td>\n",
       "      <td>0.0</td>\n",
       "      <td>1.0</td>\n",
       "      <td>0.0</td>\n",
       "      <td>0.0</td>\n",
       "      <td>0</td>\n",
       "      <td>0</td>\n",
       "    </tr>\n",
       "    <tr>\n",
       "      <th>10553</th>\n",
       "      <td>28</td>\n",
       "      <td>0</td>\n",
       "      <td>0</td>\n",
       "      <td>0</td>\n",
       "      <td>0</td>\n",
       "      <td>13</td>\n",
       "      <td>0</td>\n",
       "      <td>1</td>\n",
       "      <td>0</td>\n",
       "      <td>1</td>\n",
       "      <td>...</td>\n",
       "      <td>0</td>\n",
       "      <td>0</td>\n",
       "      <td>1.0</td>\n",
       "      <td>0.0</td>\n",
       "      <td>1.0</td>\n",
       "      <td>0.0</td>\n",
       "      <td>0.0</td>\n",
       "      <td>0.0</td>\n",
       "      <td>1</td>\n",
       "      <td>1</td>\n",
       "    </tr>\n",
       "  </tbody>\n",
       "</table>\n",
       "<p>7 rows × 21 columns</p>\n",
       "</div>"
      ],
      "text/plain": [
       "       age  race  juv_fel_count  juv_misd_count  juv_other_count  \\\n",
       "10766   36     0              0               0                0   \n",
       "3830    26     0              0               0                0   \n",
       "9746    23     0              0               0                0   \n",
       "4996    27     1              0               0                0   \n",
       "7206    37     0              0               0                0   \n",
       "9724    64     0              0               0                0   \n",
       "10553   28     0              0               0                0   \n",
       "\n",
       "       priors_count  v_decile_score  two_year_recid  sex=Female  sex=Male  \\\n",
       "10766             9               1               1           0         1   \n",
       "3830              0               0               0           1         0   \n",
       "9746              0               1               0           0         1   \n",
       "4996              1               0               0           0         1   \n",
       "7206              6               0               1           0         1   \n",
       "9724              0               0               0           1         0   \n",
       "10553            13               0               1           0         1   \n",
       "\n",
       "         ...      age_cat=Greater than 45  age_cat=Less than 25  \\\n",
       "10766    ...                            0                     0   \n",
       "3830     ...                            0                     0   \n",
       "9746     ...                            0                     1   \n",
       "4996     ...                            0                     0   \n",
       "7206     ...                            0                     0   \n",
       "9724     ...                            1                     0   \n",
       "10553    ...                            0                     0   \n",
       "\n",
       "       c_charge_degree=F  c_charge_degree=M  score_text=High  score_text=Low  \\\n",
       "10766                1.0                0.0              0.0             0.0   \n",
       "3830                 0.0                1.0              0.0             1.0   \n",
       "9746                 0.0                1.0              0.0             0.0   \n",
       "4996                 1.0                0.0              0.0             1.0   \n",
       "7206                 1.0                0.0              0.0             1.0   \n",
       "9724                 1.0                0.0              0.0             1.0   \n",
       "10553                1.0                0.0              1.0             0.0   \n",
       "\n",
       "       score_text=Medium  decile_score  true_risk  pred_risk  \n",
       "10766                1.0           0.0          1          0  \n",
       "3830                 0.0           0.0          0          0  \n",
       "9746                 1.0           0.0          0          1  \n",
       "4996                 0.0           0.0          0          0  \n",
       "7206                 0.0           0.0          1          0  \n",
       "9724                 0.0           0.0          0          0  \n",
       "10553                0.0           0.0          1          1  \n",
       "\n",
       "[7 rows x 21 columns]"
      ]
     },
     "execution_count": 138,
     "metadata": {},
     "output_type": "execute_result"
    }
   ],
   "source": [
    "model_2.head(7)"
   ]
  },
  {
   "cell_type": "code",
   "execution_count": 139,
   "metadata": {},
   "outputs": [
    {
     "data": {
      "text/plain": [
       "0.6506479481641468"
      ]
     },
     "execution_count": 139,
     "metadata": {},
     "output_type": "execute_result"
    }
   ],
   "source": [
    "\n",
    "accuracy_score(model_2['true_risk'], model_2['pred_risk'])"
   ]
  },
  {
   "cell_type": "code",
   "execution_count": 140,
   "metadata": {},
   "outputs": [
    {
     "data": {
      "text/plain": [
       "0.8623110151187905"
      ]
     },
     "execution_count": 140,
     "metadata": {},
     "output_type": "execute_result"
    }
   ],
   "source": [
    "classifier.score(xTest_di,yTest_di) #model accuracy"
   ]
  },
  {
   "cell_type": "code",
   "execution_count": 141,
   "metadata": {},
   "outputs": [
    {
     "data": {
      "text/plain": [
       "0.8915094339622641"
      ]
     },
     "execution_count": 141,
     "metadata": {},
     "output_type": "execute_result"
    }
   ],
   "source": [
    "classifier.score(xTest_di[xTest_di[\"race\"] == 1],yTest_di[xTest[\"race\"] == 1]) #Caucasians"
   ]
  },
  {
   "cell_type": "code",
   "execution_count": 142,
   "metadata": {},
   "outputs": [
    {
     "data": {
      "text/plain": [
       "0.8470394736842105"
      ]
     },
     "execution_count": 142,
     "metadata": {},
     "output_type": "execute_result"
    }
   ],
   "source": [
    "classifier.score(xTest_di[xTest_di[\"race\"] == 0],yTest_di[xTest[\"race\"] == 0])"
   ]
  },
  {
   "cell_type": "code",
   "execution_count": null,
   "metadata": {},
   "outputs": [],
   "source": []
  }
 ],
 "metadata": {
  "kernelspec": {
   "display_name": "Python 3",
   "language": "python",
   "name": "python3"
  },
  "language_info": {
   "codemirror_mode": {
    "name": "ipython",
    "version": 3
   },
   "file_extension": ".py",
   "mimetype": "text/x-python",
   "name": "python",
   "nbconvert_exporter": "python",
   "pygments_lexer": "ipython3",
   "version": "3.6.8"
  }
 },
 "nbformat": 4,
 "nbformat_minor": 2
}
